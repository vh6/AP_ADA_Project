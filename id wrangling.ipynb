{
 "cells": [
  {
   "cell_type": "markdown",
   "id": "8a667d15-963a-4995-b4e3-3bf5731c614d",
   "metadata": {},
   "source": [
    "# ID wrangling\n",
    "### In this notebook, we will match players from our Premier League data with players from our FIFA data using various techniques, and correct remaining outliers by hand."
   ]
  },
  {
   "cell_type": "code",
   "execution_count": 1,
   "id": "8db7e101-17b8-473d-8eb1-48bd75f3e254",
   "metadata": {},
   "outputs": [],
   "source": [
    "import pandas as pd\n",
    "from unidecode import unidecode\n",
    "import numpy as np"
   ]
  },
  {
   "cell_type": "code",
   "execution_count": 169,
   "id": "801b1a88-452d-4504-bb31-87b901d598dd",
   "metadata": {},
   "outputs": [],
   "source": [
    "fifa = pd.read_pickle(\"all_games.pkl\")\n",
    "pl = pd.read_pickle(\"all_seasons.pkl\")"
   ]
  },
  {
   "cell_type": "code",
   "execution_count": 170,
   "id": "a0f100e1-2d30-422a-a65b-dabcf2650f7e",
   "metadata": {},
   "outputs": [],
   "source": [
    "# All unique IDs in the FIFA data set.\n",
    "fifa_unique = fifa.drop_duplicates(subset=\"id\", keep='first')"
   ]
  },
  {
   "cell_type": "code",
   "execution_count": 171,
   "id": "3c12ba28-0f11-45dd-9a3e-bf29a85afd0a",
   "metadata": {},
   "outputs": [
    {
     "data": {
      "text/html": [
       "<div>\n",
       "<style scoped>\n",
       "    .dataframe tbody tr th:only-of-type {\n",
       "        vertical-align: middle;\n",
       "    }\n",
       "\n",
       "    .dataframe tbody tr th {\n",
       "        vertical-align: top;\n",
       "    }\n",
       "\n",
       "    .dataframe thead th {\n",
       "        text-align: right;\n",
       "    }\n",
       "</style>\n",
       "<table border=\"1\" class=\"dataframe\">\n",
       "  <thead>\n",
       "    <tr style=\"text-align: right;\">\n",
       "      <th></th>\n",
       "      <th>name</th>\n",
       "      <th>position</th>\n",
       "      <th>id</th>\n",
       "    </tr>\n",
       "  </thead>\n",
       "  <tbody>\n",
       "    <tr>\n",
       "      <th>5</th>\n",
       "      <td>Aaron Ramsey</td>\n",
       "      <td>Midfielder</td>\n",
       "      <td>3548</td>\n",
       "    </tr>\n",
       "    <tr>\n",
       "      <th>288</th>\n",
       "      <td>Danny Ward</td>\n",
       "      <td>Forward</td>\n",
       "      <td>3831</td>\n",
       "    </tr>\n",
       "    <tr>\n",
       "      <th>381</th>\n",
       "      <td>Danilo</td>\n",
       "      <td>Defender</td>\n",
       "      <td>5328</td>\n",
       "    </tr>\n",
       "    <tr>\n",
       "      <th>857</th>\n",
       "      <td>Danny Ward</td>\n",
       "      <td>Goalkeeper</td>\n",
       "      <td>4522</td>\n",
       "    </tr>\n",
       "    <tr>\n",
       "      <th>932</th>\n",
       "      <td>Danilo</td>\n",
       "      <td>Midfielder</td>\n",
       "      <td>112510</td>\n",
       "    </tr>\n",
       "    <tr>\n",
       "      <th>1068</th>\n",
       "      <td>Aaron Ramsey</td>\n",
       "      <td>Midfielder</td>\n",
       "      <td>48285</td>\n",
       "    </tr>\n",
       "  </tbody>\n",
       "</table>\n",
       "</div>"
      ],
      "text/plain": [
       "              name    position      id\n",
       "5     Aaron Ramsey  Midfielder    3548\n",
       "288     Danny Ward     Forward    3831\n",
       "381         Danilo    Defender    5328\n",
       "857     Danny Ward  Goalkeeper    4522\n",
       "932         Danilo  Midfielder  112510\n",
       "1068  Aaron Ramsey  Midfielder   48285"
      ]
     },
     "execution_count": 171,
     "metadata": {},
     "output_type": "execute_result"
    }
   ],
   "source": [
    "# We find all unique players in the PL\n",
    "pl_players = []\n",
    "\n",
    "# List of all players in all matches\n",
    "for row in pl['players']:\n",
    "    for player in row:\n",
    "        pl_players.append(player)\n",
    "\n",
    "# Remove duplicates by making dict with player ids as keys\n",
    "pl_players = list(dict((x[2], x) for x in pl_players).values())\n",
    "\n",
    "# Transform to dataframe and find name duplicates, we will check these manually at the end.\n",
    "pl_players = pd.DataFrame(pl_players, columns = ['name', 'position', 'id'])\n",
    "pl_players[pl_players.duplicated(['name'], keep=False)]"
   ]
  },
  {
   "cell_type": "code",
   "execution_count": 172,
   "id": "d531483e-1f44-4a93-96e7-2994f2367788",
   "metadata": {},
   "outputs": [],
   "source": [
    "# Rename both Danilos in the PL dataframe\n",
    "pl_players.loc[pl_players['id'] == '5328', 'name'] = 'Danilo Luiz da Silva'\n",
    "pl_players.loc[pl_players['id'] == '112510', 'name'] = 'Danilo Santos de Oliveira'"
   ]
  },
  {
   "cell_type": "code",
   "execution_count": 173,
   "id": "dc1539e0-f095-4a23-9012-fb4dd73966f7",
   "metadata": {},
   "outputs": [],
   "source": [
    "# Remove accents from letters in players names with unidecode, so they will be easier to merge\n",
    "pl_players.loc[:,'name'] = pl_players['name'].apply(lambda x: unidecode(x))\n",
    "fifa_unique.loc[:,'name'] = fifa_unique['name'].apply(lambda x: unidecode(x))\n",
    "fifa_unique.loc[:,'short_name'] = fifa_unique['short_name'].apply(lambda x: unidecode(x))"
   ]
  },
  {
   "cell_type": "code",
   "execution_count": 174,
   "id": "17316f57-962d-4f94-a5f2-5ba1983d3cc9",
   "metadata": {},
   "outputs": [],
   "source": [
    "# Join PL and FIFA dataframes on name. We join on pl_players because we need to merge only the players in our match data.\n",
    "df = pd.merge(pl_players, fifa_unique, how='left', on='name')"
   ]
  },
  {
   "cell_type": "code",
   "execution_count": 175,
   "id": "a0d03ba4-69f5-4854-9fd9-c67abb291b45",
   "metadata": {},
   "outputs": [],
   "source": [
    "# Check how many rows did not merge successfully\n",
    "df['rating'].isna().sum() # 200 / 1136 rows\n",
    "\n",
    "# Create df_leftovers for players that did not merge successfully\n",
    "df_leftovers = df.loc[df['rating'].isnull()].iloc[:,0:3]\n",
    "# Looking at the failed merges manually, we can see many names are more complicated in the FIFA dataframe, and PL uses simplified names. Also FIFA includes more special characters, PL tends to omit special characters and replace them by a standard letter."
   ]
  },
  {
   "cell_type": "code",
   "execution_count": 176,
   "id": "932c8638-2c2c-4019-8dd2-dafb8bd5e056",
   "metadata": {},
   "outputs": [],
   "source": [
    "# Merge leftovers on short names\n",
    "df_2 = pd.merge(df_leftovers, fifa_unique, how='left', left_on='name', right_on='short_name')\n",
    "\n",
    "# Check how many rows did not merge successfully\n",
    "df_2['rating'].isna().sum() # 64 / 200 rows\n",
    "\n",
    "# Create df_leftovers_2 for players that did not merge successfully\n",
    "df_leftovers_2 = df_2.loc[df_2['rating'].isnull()].iloc[:,0:3]"
   ]
  },
  {
   "cell_type": "code",
   "execution_count": 177,
   "id": "95928990-727b-49a2-8076-348ed3d5d98b",
   "metadata": {},
   "outputs": [],
   "source": [
    "# Create short names (first letter of first name + last name) for PL players to merge with short_name from FIFA\n",
    "def shorten_name(name):\n",
    "    first_name = name.split()[0]\n",
    "    last_name = name.split()[-1]\n",
    "    initial = first_name[0] + \".\"\n",
    "    short_name = initial + \" \" + last_name\n",
    "    return short_name\n",
    "\n",
    "# Apply function to leftover pl_players\n",
    "df_leftovers_2['short_name'] = df_leftovers_2['name_x'].apply(shorten_name)"
   ]
  },
  {
   "cell_type": "code",
   "execution_count": 178,
   "id": "47b43d90-f1a3-49fc-b1ec-343e2c71ccc1",
   "metadata": {},
   "outputs": [],
   "source": [
    "# Merge leftovers on short names\n",
    "df_3 = pd.merge(df_leftovers_2, fifa_unique, how='left', on='short_name')\n",
    "\n",
    "# Check how many rows did not merge successfully\n",
    "df_3['rating'].isna().sum() # 37 / 64 rows\n",
    "\n",
    "# Create df_leftovers_3 for players that did not merge successfully\n",
    "df_leftovers_3 = df_3.loc[df_3['rating'].isnull()].iloc[:,0:3]"
   ]
  },
  {
   "cell_type": "code",
   "execution_count": 179,
   "id": "2a57f4a1-502d-4723-9d45-408623428d1e",
   "metadata": {},
   "outputs": [
    {
     "name": "stderr",
     "output_type": "stream",
     "text": [
      "C:\\Users\\victo\\AppData\\Local\\Temp\\ipykernel_12100\\2650919180.py:12: FutureWarning: Setting an item of incompatible dtype is deprecated and will raise an error in a future version of pandas. Value 'Fabricio Agosto Ramirez' has dtype incompatible with float64, please explicitly cast to a compatible dtype first.\n",
      "  df_leftovers_3.loc[pl_index, fifa_unique.columns] = fifa_row\n",
      "C:\\Users\\victo\\AppData\\Local\\Temp\\ipykernel_12100\\2650919180.py:12: FutureWarning: Setting an item of incompatible dtype is deprecated and will raise an error in a future version of pandas. Value 'Fabricio' has dtype incompatible with float64, please explicitly cast to a compatible dtype first.\n",
      "  df_leftovers_3.loc[pl_index, fifa_unique.columns] = fifa_row\n",
      "C:\\Users\\victo\\AppData\\Local\\Temp\\ipykernel_12100\\2650919180.py:12: FutureWarning: Setting an item of incompatible dtype is deprecated and will raise an error in a future version of pandas. Value 'Fulham' has dtype incompatible with float64, please explicitly cast to a compatible dtype first.\n",
      "  df_leftovers_3.loc[pl_index, fifa_unique.columns] = fifa_row\n",
      "C:\\Users\\victo\\AppData\\Local\\Temp\\ipykernel_12100\\2650919180.py:12: FutureWarning: Setting an item of incompatible dtype is deprecated and will raise an error in a future version of pandas. Value '177723' has dtype incompatible with float64, please explicitly cast to a compatible dtype first.\n",
      "  df_leftovers_3.loc[pl_index, fifa_unique.columns] = fifa_row\n",
      "C:\\Users\\victo\\AppData\\Local\\Temp\\ipykernel_12100\\2650919180.py:12: FutureWarning: Setting an item of incompatible dtype is deprecated and will raise an error in a future version of pandas. Value 'Aug 24, 2020' has dtype incompatible with float64, please explicitly cast to a compatible dtype first.\n",
      "  df_leftovers_3.loc[pl_index, fifa_unique.columns] = fifa_row\n"
     ]
    }
   ],
   "source": [
    "# Add blank fifa_unique columns to df_leftovers_3\n",
    "for col in fifa_unique.columns:\n",
    "    if col not in df_leftovers_3.columns:\n",
    "        df_leftovers_3[col] = np.nan\n",
    "\n",
    "# Check if PL name is contained in FIFA name, if so, copy the values of the FIFA rows and add paste them in the corresponding PL rows.\n",
    "for pl_index, pl_row in df_leftovers_3.iterrows():\n",
    "    pl_name = pl_row['name_x']\n",
    "    for _, fifa_row in fifa_unique.iterrows():\n",
    "        fifa_name = fifa_row['name']\n",
    "        if pl_name in fifa_name:\n",
    "            df_leftovers_3.loc[pl_index, fifa_unique.columns] = fifa_row\n",
    "            break\n",
    "\n",
    "# Set df_4 to the new df_leftovers_3\n",
    "df_4 = df_leftovers_3\n",
    "# Check how many rows did not merge successfully\n",
    "df_4['rating'].isna().sum() # 14 / 37 rows\n",
    "\n",
    "# Create df_leftovers_4 for players that did not merge successfully\n",
    "df_leftovers_4 = df_4.loc[df_4['rating'].isnull()].iloc[:,0:3]"
   ]
  },
  {
   "cell_type": "code",
   "execution_count": 180,
   "id": "7d11b73a-42fd-4706-af37-d8d965bd999c",
   "metadata": {},
   "outputs": [
    {
     "name": "stderr",
     "output_type": "stream",
     "text": [
      "C:\\Users\\victo\\AppData\\Local\\Temp\\ipykernel_12100\\3322496898.py:8: FutureWarning: Setting an item of incompatible dtype is deprecated and will raise an error in a future version of pandas. Value 'Alvaro Borja Morata Martin' has dtype incompatible with float64, please explicitly cast to a compatible dtype first.\n",
      "  df_leftovers_4.loc[4, fifa_unique.columns] = fifa_unique.loc[184256]\n",
      "C:\\Users\\victo\\AppData\\Local\\Temp\\ipykernel_12100\\3322496898.py:8: FutureWarning: Setting an item of incompatible dtype is deprecated and will raise an error in a future version of pandas. Value 'Morata' has dtype incompatible with float64, please explicitly cast to a compatible dtype first.\n",
      "  df_leftovers_4.loc[4, fifa_unique.columns] = fifa_unique.loc[184256]\n",
      "C:\\Users\\victo\\AppData\\Local\\Temp\\ipykernel_12100\\3322496898.py:8: FutureWarning: Setting an item of incompatible dtype is deprecated and will raise an error in a future version of pandas. Value 'Chelsea' has dtype incompatible with float64, please explicitly cast to a compatible dtype first.\n",
      "  df_leftovers_4.loc[4, fifa_unique.columns] = fifa_unique.loc[184256]\n",
      "C:\\Users\\victo\\AppData\\Local\\Temp\\ipykernel_12100\\3322496898.py:8: FutureWarning: Setting an item of incompatible dtype is deprecated and will raise an error in a future version of pandas. Value '201153' has dtype incompatible with float64, please explicitly cast to a compatible dtype first.\n",
      "  df_leftovers_4.loc[4, fifa_unique.columns] = fifa_unique.loc[184256]\n",
      "C:\\Users\\victo\\AppData\\Local\\Temp\\ipykernel_12100\\3322496898.py:8: FutureWarning: Setting an item of incompatible dtype is deprecated and will raise an error in a future version of pandas. Value 'Jul 19, 2018' has dtype incompatible with float64, please explicitly cast to a compatible dtype first.\n",
      "  df_leftovers_4.loc[4, fifa_unique.columns] = fifa_unique.loc[184256]\n"
     ]
    }
   ],
   "source": [
    "# Since we now have very few remaining players (14), that are difficult to merge with the same methods, we will merge them manually (nicknames, typos, unidecode didn't work, ...)\n",
    "# Add blank fifa_unique columns to df_leftovers_4\n",
    "for col in fifa_unique.columns:\n",
    "    if col not in df_leftovers_4.columns:\n",
    "        df_leftovers_4[col] = np.nan\n",
    "\n",
    "# Manually copy and paste row data\n",
    "df_leftovers_4.loc[4, fifa_unique.columns] = fifa_unique.loc[184256]\n",
    "df_leftovers_4.loc[8, fifa_unique.columns] = fifa_unique.loc[22767]\n",
    "df_leftovers_4.loc[9, fifa_unique.columns] = fifa_unique.loc[366]\n",
    "df_leftovers_4.loc[13, fifa_unique.columns] = fifa_unique.loc[252]\n",
    "df_leftovers_4.loc[18, fifa_unique.columns] = fifa_unique.loc[142101]\n",
    "df_leftovers_4.loc[20, fifa_unique.columns] = fifa_unique.loc[142175]\n",
    "df_leftovers_4.loc[26, fifa_unique.columns] = fifa_unique.loc[184431]\n",
    "df_leftovers_4.loc[28, fifa_unique.columns] = fifa_unique.loc[101070]\n",
    "df_leftovers_4.loc[35, fifa_unique.columns] = fifa_unique.loc[34]\n",
    "df_leftovers_4.loc[38, fifa_unique.columns] = fifa_unique.loc[101058]\n",
    "df_leftovers_4.loc[45, fifa_unique.columns] = fifa_unique.loc[251]\n",
    "df_leftovers_4.loc[46, fifa_unique.columns] = fifa_unique.loc[55809]\n",
    "df_leftovers_4.loc[50, fifa_unique.columns] = fifa_unique.loc[58]\n",
    "df_leftovers_4.loc[51, fifa_unique.columns] = fifa_unique.loc[23158]\n",
    "\n",
    "# Set df_5 to df_leftovers_4\n",
    "df_5 = df_leftovers_4"
   ]
  },
  {
   "cell_type": "code",
   "execution_count": 181,
   "id": "303303c2-6679-4de7-bf2b-03d98a2cbed0",
   "metadata": {},
   "outputs": [],
   "source": [
    "# Make a dictionary with PL ids as keys and FIFA ids as values. Do this for our 5 dataframes.\n",
    "dict_1 = {}\n",
    "for _, row in df[~df['rating'].isna()].iterrows():\n",
    "    dict_1[row['id_x']] = row['id_y']\n",
    "\n",
    "dict_2 = {}\n",
    "for _, row in df_2[~df_2['rating'].isna()].iterrows():\n",
    "    dict_2[row['id_x']] = row['id']\n",
    "\n",
    "dict_3 = {}\n",
    "for _, row in df_3[~df_3['rating'].isna()].iterrows():\n",
    "    dict_3[row['id_x']] = row['id']\n",
    "\n",
    "dict_4 = {}\n",
    "for _, row in df_4[~df_4['rating'].isna()].iterrows():\n",
    "    dict_4[row['id_x']] = row['id']\n",
    "\n",
    "dict_5 = {}\n",
    "for _, row in df_5.iterrows():\n",
    "    dict_5[row['id_x']] = row['id']\n",
    "\n",
    "# Extend dict_1 with the contents of other dicts.\n",
    "dict_1.update(dict_2)\n",
    "dict_1.update(dict_3)\n",
    "dict_1.update(dict_4)\n",
    "dict_1.update(dict_5)\n",
    "id_dict = dict_1\n",
    "len(id_dict) # 1124 / 1129\n",
    "\n",
    "# There are some players missing so we find which ids are missing in the dict\n",
    "for _, row in pl_players.iterrows():\n",
    "    if row['id'] not in id_dict:\n",
    "        print(row)\n",
    "\n",
    "# We add these players' id key value pairs to the dict manually\n",
    "dict_6 = {'20559':'212831', '32162':'227236', '4999':'200104', '67634':'255253', '43087':'234457'}\n",
    "id_dict.update(dict_6)\n",
    "\n",
    "# We now manually correct the ids of the players with duplicate names found earlier\n",
    "pl_players[pl_players.duplicated(['name'], keep=False)]\n",
    "id_dict['3831'] = '194319'\n",
    "id_dict['4522'] = '207998'\n",
    "id_dict['3548'] = '186561'\n",
    "id_dict['48285'] = '266270'"
   ]
  },
  {
   "cell_type": "code",
   "execution_count": 1,
   "id": "fe6b1822-3ae9-4701-bf8d-c78e490b30a0",
   "metadata": {},
   "outputs": [
    {
     "ename": "NameError",
     "evalue": "name 'id_dict' is not defined",
     "output_type": "error",
     "traceback": [
      "\u001b[1;31m---------------------------------------------------------------------------\u001b[0m",
      "\u001b[1;31mNameError\u001b[0m                                 Traceback (most recent call last)",
      "Cell \u001b[1;32mIn[1], line 2\u001b[0m\n\u001b[0;32m      1\u001b[0m \u001b[38;5;66;03m# Save id_dict to pickle.\u001b[39;00m\n\u001b[1;32m----> 2\u001b[0m id_list \u001b[38;5;241m=\u001b[39m \u001b[38;5;28mlist\u001b[39m(\u001b[43mid_dict\u001b[49m\u001b[38;5;241m.\u001b[39mitems())\n\u001b[0;32m      3\u001b[0m id_df \u001b[38;5;241m=\u001b[39m pd\u001b[38;5;241m.\u001b[39mDataFrame(id_list, columns \u001b[38;5;241m=\u001b[39m [\u001b[38;5;124m'\u001b[39m\u001b[38;5;124mkeys\u001b[39m\u001b[38;5;124m'\u001b[39m, \u001b[38;5;124m'\u001b[39m\u001b[38;5;124mvalues\u001b[39m\u001b[38;5;124m'\u001b[39m])\n\u001b[0;32m      4\u001b[0m id_df\u001b[38;5;241m.\u001b[39mto_pickle(\u001b[38;5;124m\"\u001b[39m\u001b[38;5;124mid_df.pkl\u001b[39m\u001b[38;5;124m\"\u001b[39m)\n",
      "\u001b[1;31mNameError\u001b[0m: name 'id_dict' is not defined"
     ]
    }
   ],
   "source": [
    "# Save id_dict to pickle.\n",
    "id_list = list(id_dict.items())\n",
    "id_df = pd.DataFrame(id_list, columns = ['keys', 'values'])\n",
    "id_df.to_pickle(\"id_df.pkl\")"
   ]
  }
 ],
 "metadata": {
  "kernelspec": {
   "display_name": "Python 3 (ipykernel)",
   "language": "python",
   "name": "python3"
  },
  "language_info": {
   "codemirror_mode": {
    "name": "ipython",
    "version": 3
   },
   "file_extension": ".py",
   "mimetype": "text/x-python",
   "name": "python",
   "nbconvert_exporter": "python",
   "pygments_lexer": "ipython3",
   "version": "3.11.7"
  }
 },
 "nbformat": 4,
 "nbformat_minor": 5
}
